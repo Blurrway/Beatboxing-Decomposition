{
 "cells": [
  {
   "cell_type": "markdown",
   "metadata": {},
   "source": [
    "# Feature Vector Calculations\n",
    "The goal of this file is to be able to take in a sound observation (obtained from onset-/tempo-based windowing) and return a 1D vector that characterizes the sound. The different characteristics are listed in the Sound.py class."
   ]
  },
  {
   "cell_type": "code",
   "execution_count": null,
   "metadata": {},
   "outputs": [],
   "source": [
    "import numpy as np\n",
    "import librosa as lb\n",
    "import matplotlib.pyplot as plt\n",
    "import IPython.display as ipd\n",
    "import scipy.io as sio\n",
    "import miscFuns as mf"
   ]
  },
  {
   "cell_type": "code",
   "execution_count": null,
   "metadata": {},
   "outputs": [],
   "source": [
    "sr_native = 44100 # Native audio sample rate\n",
    "sr = int(sr_native/4) # Heavily downsampled for onset detection"
   ]
  },
  {
   "cell_type": "code",
   "execution_count": null,
   "metadata": {},
   "outputs": [],
   "source": [
    "audio1, sr1 = lb.load('audio_data/scozier_rec1.wav', sr=sr_native)\n",
    "audio2, sr2 = lb.load('audio_data/scozier_rec1.wav', sr=int(sr_native/2))\n",
    "audio4, sr4 = lb.load('audio_data/scozier_rec1.wav', sr=int(sr_native/4))\n",
    "audio10, sr10 = lb.load('audio_data/scozier_rec1.wav', sr=int(sr_native/10))"
   ]
  },
  {
   "cell_type": "code",
   "execution_count": null,
   "metadata": {},
   "outputs": [],
   "source": [
    "def envelope(sound, M=20, sr=sr):\n",
    "    ''' Generates 1-sided sound envelope based on simple moving averaging method. In order to track the sound\n",
    "        onset better, the averaging window is biased towards the past data points, rather than centered\n",
    "        around the current point.\n",
    "        \n",
    "        @param sound  sound observation in time-energy domain\n",
    "        @param M      1/3 of window size of moving average (window from n-2M to n+M)\n",
    "    '''\n",
    "    \n",
    "    #### NEW METHOD ######\n",
    "#     sound = np.array(list(map(mf.halfWave, sound)))\n",
    "    \n",
    "#     retain only the peaks (filter?)\n",
    "#     use linear interpolation between the points\n",
    "#     ignore any pre-peak valleys (may not be necessary?)\n",
    "\n",
    "#     Ask Prof. Tsai about using autocorrelation for this\n",
    "    \n",
    "    #### OLD METHOD ######\n",
    "    \n",
    "    sound = np.abs(sound)\n",
    "        \n",
    "    for frame in np.arange(len(sound)):\n",
    "        start = max(0,frame-2*M) # Bias window towards past data\n",
    "        end = min(len(sound)-1, frame+M)\n",
    "        sound[frame] = sum(sound[start:end])/(max(end-start,1)) \n",
    "    \n",
    "    return sound    "
   ]
  },
  {
   "cell_type": "code",
   "execution_count": null,
   "metadata": {
    "scrolled": true
   },
   "outputs": [],
   "source": [
    "audio = audio4; sr = sr4\n",
    "\n",
    "t = [57.725, 58]\n",
    "# ^Ksh: 33.65, 33.9\n",
    "# B: 3.67, 3.85\n",
    "# ts: 57.725, 58\n",
    "\n",
    "plt.figure(1, figsize=[15,5])\n",
    "plt.subplot(2,2,1)\n",
    "short_audio = mf.plotWave(audio4, t, sr=sr, short=True, title='Waveform')\n",
    "peaks = [np.argmax(short_audio)]\n",
    "\n",
    "# strength_env = lb.onset.onset_strength(short_audio, sr=sr)\n",
    "sound_env = envelope(short_audio, M=20)\n",
    "peaks += [np.argmax(sound_env)]\n",
    "\n",
    "plt.subplot(2,2,2)\n",
    "mf.plotWave(sound_env, t0=t[0], sr=sr, title='Envelope, M=20')\n",
    "\n",
    "sound_env = envelope(short_audio, M=30)\n",
    "peaks += [np.argmax(sound_env)]\n",
    "\n",
    "plt.subplot(2,2,3)\n",
    "mf.plotWave(sound_env, t0=t[0], sr=sr, title='Envelope, M=30')\n",
    "\n",
    "sound_env = envelope(short_audio, M=120)\n",
    "peaks += [np.argmax(sound_env)]\n",
    "\n",
    "plt.subplot(2,2,4)\n",
    "mf.plotWave(sound_env, t0=t[0], sr=sr, title='Envelope, M=120')\n",
    "\n",
    "# plt.subplot(1,3,3)\n",
    "# plotWave(strength_env, t0=t[0], title='Strength Envelope')\n",
    "\n",
    "plt.show()\n",
    "\n",
    "print(peaks)\n",
    "print(np.array(peaks)/sr)\n"
   ]
  },
  {
   "cell_type": "code",
   "execution_count": null,
   "metadata": {},
   "outputs": [],
   "source": [
    "ipd.Audio(short_audio, rate=sr)"
   ]
  },
  {
   "cell_type": "code",
   "execution_count": null,
   "metadata": {},
   "outputs": [],
   "source": [
    "def calcADSR(sound, env, sr=sr):\n",
    "    ''' sound is the time-energy representation (raw audio data)\n",
    "        x variables are in samples, t variables are in seconds\n",
    "        \n",
    "        This function assumes that the sound has been windowed appropriately\n",
    "        such that the first index is the beginning of the sound.\n",
    "        \n",
    "        I categorized sounds into 2 categories based on the severity of release.\n",
    "        If the post-decay section is a gradual release, this counts it as 0 sustain and full release.\n",
    "        IF the post-decay section is followed by a hard release section, both sustain and release will be positive.\n",
    "    '''\n",
    "    \n",
    "    thresh = 0.001 # Minimum sound level (envelope)\n",
    "    min_slope = 3e-6 # minimum slope threshold (for steady state vs. release)\n",
    "    slope_run = int(0.1*sr) # Step width for average slope calculation\n",
    "    \n",
    "    \n",
    "#     x_peak = argmax(sound) # Should this be used?\n",
    "    x_peak_env = np.argmax(env)\n",
    "    \n",
    "    # Initialize variables\n",
    "    x_start = 0\n",
    "    x_end = len(sound)-1\n",
    "    \n",
    "    # Look for start of sound\n",
    "    for x,eVal in enumerate(env):\n",
    "        if eVal > thresh: # Start of sound\n",
    "            x_start = x\n",
    "            break\n",
    "    \n",
    "    # Look for post-peak decay, sustain, and release.\n",
    "    x_ss1 = x_ss2 = x_peak_env\n",
    "    inDecay = True\n",
    "    for x,eVal in enumerate(env[x_peak_env:]):\n",
    "        x += x_peak_env\n",
    "        slope = (env[min(x+slope_run, x_end)]-env[x])/(min(x+slope_run, x_end) - x)\n",
    "#         print([x/sr+t[0],slope])\n",
    "\n",
    "        if (eVal < thresh) or (x == x_end-1): # End of sound\n",
    "            x_end = x # Minor off-by-one error?           \n",
    "            break\n",
    "            \n",
    "        elif inDecay and (np.abs(slope) < min_slope): # Start of a sustain/gradual release section\n",
    "            x_ss1 = x_ss2 = x # Initialize x_ss2 in case of no hard release\n",
    "            inDecay = False\n",
    "        elif (inDecay==False) and (np.abs(slope) >= min_slope): # Start of a hard release\n",
    "            x_ss2 = x\n",
    "            \n",
    "    #print('x_start: {}, x_peak_env: {}, x_ss1: {}, x_ss2: {}, x_end: {}'.format(x_start, x_peak_env, x_ss1, x_ss2, x_end))\n",
    "    attack = (x_peak_env-x_start)/sr\n",
    "    decay = (x_ss1-x_peak_env)/sr \n",
    "    sustain = (x_ss2-x_ss1)/sr \n",
    "    release = (x_end-1-x_ss2)/sr\n",
    "    \n",
    "    return attack, decay, sustain, release"
   ]
  },
  {
   "cell_type": "code",
   "execution_count": null,
   "metadata": {},
   "outputs": [],
   "source": [
    "plt.figure(1, figsize=[15,8])\n",
    "plt.subplot(2,2,1)\n",
    "short_audio = mf.plotWave(audio4, t, sr=sr, short=True, title='Waveform')\n",
    "\n",
    "adsr = np.zeros((4,4))\n",
    "for n, M in enumerate([20,40,60,80]):\n",
    "    sound_env = envelope(short_audio, M)\n",
    "    attack, decay, sustain, release = calcADSR(short_audio, sound_env)\n",
    "    adsr[n,:] = np.array([attack, decay, sustain, release])\n",
    "\n",
    "print('Open hi-hat (ts) ADSR values for varying envelope window sizes:')\n",
    "print(adsr)"
   ]
  }
 ],
 "metadata": {
  "kernelspec": {
   "display_name": "Python 3",
   "language": "python",
   "name": "python3"
  },
  "language_info": {
   "codemirror_mode": {
    "name": "ipython",
    "version": 3
   },
   "file_extension": ".py",
   "mimetype": "text/x-python",
   "name": "python",
   "nbconvert_exporter": "python",
   "pygments_lexer": "ipython3",
   "version": "3.6.5"
  }
 },
 "nbformat": 4,
 "nbformat_minor": 2
}
